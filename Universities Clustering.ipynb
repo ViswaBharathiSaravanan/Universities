{
 "cells": [
  {
   "cell_type": "markdown",
   "id": "a5fe597c",
   "metadata": {},
   "source": [
    "<H1>UNIVERSITIES CLUSTERING</H1>"
   ]
  },
  {
   "cell_type": "markdown",
   "id": "bcc8ee0f",
   "metadata": {},
   "source": [
    "<H6>Unsupervised Learning<H6>"
   ]
  },
  {
   "cell_type": "code",
   "execution_count": 71,
   "id": "31d09613",
   "metadata": {},
   "outputs": [],
   "source": [
    "#Since no parameter is predicted; only a list of college is selected for a client to join"
   ]
  },
  {
   "cell_type": "code",
   "execution_count": 118,
   "id": "087f72ac",
   "metadata": {},
   "outputs": [],
   "source": [
    "import pandas as pd\n",
    "from scipy import stats\n",
    "import matplotlib.pyplot as plt\n",
    "import seaborn as sns\n",
    "import statsmodels.api as sm\n",
    "from sklearn.model_selection import train_test_split\n",
    "from sklearn.linear_model import LogisticRegression\n",
    "from sklearn.metrics import confusion_matrix\n",
    "from scipy import stats\n",
    "from sklearn.preprocessing import normalize\n",
    "import scipy.cluster.hierarchy as shc\n",
    "from sklearn.cluster import AgglomerativeClustering"
   ]
  },
  {
   "cell_type": "code",
   "execution_count": 73,
   "id": "4656cd1f",
   "metadata": {},
   "outputs": [
    {
     "data": {
      "text/html": [
       "<div>\n",
       "<style scoped>\n",
       "    .dataframe tbody tr th:only-of-type {\n",
       "        vertical-align: middle;\n",
       "    }\n",
       "\n",
       "    .dataframe tbody tr th {\n",
       "        vertical-align: top;\n",
       "    }\n",
       "\n",
       "    .dataframe thead th {\n",
       "        text-align: right;\n",
       "    }\n",
       "</style>\n",
       "<table border=\"1\" class=\"dataframe\">\n",
       "  <thead>\n",
       "    <tr style=\"text-align: right;\">\n",
       "      <th></th>\n",
       "      <th>Unnamed: 0</th>\n",
       "      <th>Private</th>\n",
       "      <th>Apps</th>\n",
       "      <th>Accept</th>\n",
       "      <th>Enroll</th>\n",
       "      <th>Top10perc</th>\n",
       "      <th>Top25perc</th>\n",
       "      <th>F.Undergrad</th>\n",
       "      <th>P.Undergrad</th>\n",
       "      <th>Outstate</th>\n",
       "      <th>Room.Board</th>\n",
       "      <th>Books</th>\n",
       "      <th>Personal</th>\n",
       "      <th>PhD</th>\n",
       "      <th>Terminal</th>\n",
       "      <th>S.F.Ratio</th>\n",
       "      <th>perc.alumni</th>\n",
       "      <th>Expend</th>\n",
       "      <th>Grad.Rate</th>\n",
       "    </tr>\n",
       "  </thead>\n",
       "  <tbody>\n",
       "    <tr>\n",
       "      <th>0</th>\n",
       "      <td>Abilene Christian University</td>\n",
       "      <td>Yes</td>\n",
       "      <td>1660</td>\n",
       "      <td>1232</td>\n",
       "      <td>721</td>\n",
       "      <td>23</td>\n",
       "      <td>52</td>\n",
       "      <td>2885</td>\n",
       "      <td>537</td>\n",
       "      <td>7440</td>\n",
       "      <td>3300</td>\n",
       "      <td>450</td>\n",
       "      <td>2200</td>\n",
       "      <td>70</td>\n",
       "      <td>78</td>\n",
       "      <td>18.1</td>\n",
       "      <td>12</td>\n",
       "      <td>7041</td>\n",
       "      <td>60</td>\n",
       "    </tr>\n",
       "    <tr>\n",
       "      <th>1</th>\n",
       "      <td>Adelphi University</td>\n",
       "      <td>Yes</td>\n",
       "      <td>2186</td>\n",
       "      <td>1924</td>\n",
       "      <td>512</td>\n",
       "      <td>16</td>\n",
       "      <td>29</td>\n",
       "      <td>2683</td>\n",
       "      <td>1227</td>\n",
       "      <td>12280</td>\n",
       "      <td>6450</td>\n",
       "      <td>750</td>\n",
       "      <td>1500</td>\n",
       "      <td>29</td>\n",
       "      <td>30</td>\n",
       "      <td>12.2</td>\n",
       "      <td>16</td>\n",
       "      <td>10527</td>\n",
       "      <td>56</td>\n",
       "    </tr>\n",
       "    <tr>\n",
       "      <th>2</th>\n",
       "      <td>Adrian College</td>\n",
       "      <td>Yes</td>\n",
       "      <td>1428</td>\n",
       "      <td>1097</td>\n",
       "      <td>336</td>\n",
       "      <td>22</td>\n",
       "      <td>50</td>\n",
       "      <td>1036</td>\n",
       "      <td>99</td>\n",
       "      <td>11250</td>\n",
       "      <td>3750</td>\n",
       "      <td>400</td>\n",
       "      <td>1165</td>\n",
       "      <td>53</td>\n",
       "      <td>66</td>\n",
       "      <td>12.9</td>\n",
       "      <td>30</td>\n",
       "      <td>8735</td>\n",
       "      <td>54</td>\n",
       "    </tr>\n",
       "    <tr>\n",
       "      <th>3</th>\n",
       "      <td>Agnes Scott College</td>\n",
       "      <td>Yes</td>\n",
       "      <td>417</td>\n",
       "      <td>349</td>\n",
       "      <td>137</td>\n",
       "      <td>60</td>\n",
       "      <td>89</td>\n",
       "      <td>510</td>\n",
       "      <td>63</td>\n",
       "      <td>12960</td>\n",
       "      <td>5450</td>\n",
       "      <td>450</td>\n",
       "      <td>875</td>\n",
       "      <td>92</td>\n",
       "      <td>97</td>\n",
       "      <td>7.7</td>\n",
       "      <td>37</td>\n",
       "      <td>19016</td>\n",
       "      <td>59</td>\n",
       "    </tr>\n",
       "    <tr>\n",
       "      <th>4</th>\n",
       "      <td>Alaska Pacific University</td>\n",
       "      <td>Yes</td>\n",
       "      <td>193</td>\n",
       "      <td>146</td>\n",
       "      <td>55</td>\n",
       "      <td>16</td>\n",
       "      <td>44</td>\n",
       "      <td>249</td>\n",
       "      <td>869</td>\n",
       "      <td>7560</td>\n",
       "      <td>4120</td>\n",
       "      <td>800</td>\n",
       "      <td>1500</td>\n",
       "      <td>76</td>\n",
       "      <td>72</td>\n",
       "      <td>11.9</td>\n",
       "      <td>2</td>\n",
       "      <td>10922</td>\n",
       "      <td>15</td>\n",
       "    </tr>\n",
       "  </tbody>\n",
       "</table>\n",
       "</div>"
      ],
      "text/plain": [
       "                     Unnamed: 0 Private  Apps  Accept  Enroll  Top10perc  \\\n",
       "0  Abilene Christian University     Yes  1660    1232     721         23   \n",
       "1            Adelphi University     Yes  2186    1924     512         16   \n",
       "2                Adrian College     Yes  1428    1097     336         22   \n",
       "3           Agnes Scott College     Yes   417     349     137         60   \n",
       "4     Alaska Pacific University     Yes   193     146      55         16   \n",
       "\n",
       "   Top25perc  F.Undergrad  P.Undergrad  Outstate  Room.Board  Books  Personal  \\\n",
       "0         52         2885          537      7440        3300    450      2200   \n",
       "1         29         2683         1227     12280        6450    750      1500   \n",
       "2         50         1036           99     11250        3750    400      1165   \n",
       "3         89          510           63     12960        5450    450       875   \n",
       "4         44          249          869      7560        4120    800      1500   \n",
       "\n",
       "   PhD  Terminal  S.F.Ratio  perc.alumni  Expend  Grad.Rate  \n",
       "0   70        78       18.1           12    7041         60  \n",
       "1   29        30       12.2           16   10527         56  \n",
       "2   53        66       12.9           30    8735         54  \n",
       "3   92        97        7.7           37   19016         59  \n",
       "4   76        72       11.9            2   10922         15  "
      ]
     },
     "execution_count": 73,
     "metadata": {},
     "output_type": "execute_result"
    }
   ],
   "source": [
    "a=pd.read_csv(\"https://raw.githubusercontent.com/imhardikj/Universities-Clustering/master/College_Data\")\n",
    "a.head()"
   ]
  },
  {
   "cell_type": "code",
   "execution_count": 74,
   "id": "db0eb440",
   "metadata": {},
   "outputs": [
    {
     "data": {
      "text/plain": [
       "Index(['Unnamed: 0', 'Private', 'Apps', 'Accept', 'Enroll', 'Top10perc',\n",
       "       'Top25perc', 'F.Undergrad', 'P.Undergrad', 'Outstate', 'Room.Board',\n",
       "       'Books', 'Personal', 'PhD', 'Terminal', 'S.F.Ratio', 'perc.alumni',\n",
       "       'Expend', 'Grad.Rate'],\n",
       "      dtype='object')"
      ]
     },
     "execution_count": 74,
     "metadata": {},
     "output_type": "execute_result"
    }
   ],
   "source": [
    "a.columns"
   ]
  },
  {
   "cell_type": "code",
   "execution_count": 75,
   "id": "a6b6387a",
   "metadata": {},
   "outputs": [
    {
     "data": {
      "text/html": [
       "<div>\n",
       "<style scoped>\n",
       "    .dataframe tbody tr th:only-of-type {\n",
       "        vertical-align: middle;\n",
       "    }\n",
       "\n",
       "    .dataframe tbody tr th {\n",
       "        vertical-align: top;\n",
       "    }\n",
       "\n",
       "    .dataframe thead th {\n",
       "        text-align: right;\n",
       "    }\n",
       "</style>\n",
       "<table border=\"1\" class=\"dataframe\">\n",
       "  <thead>\n",
       "    <tr style=\"text-align: right;\">\n",
       "      <th></th>\n",
       "      <th>Names</th>\n",
       "      <th>Private</th>\n",
       "      <th>Apps</th>\n",
       "      <th>Accept</th>\n",
       "      <th>Enroll</th>\n",
       "      <th>Top10perc</th>\n",
       "      <th>Top25perc</th>\n",
       "      <th>FullTime</th>\n",
       "      <th>PartTime</th>\n",
       "      <th>Outstate</th>\n",
       "      <th>RoomCost</th>\n",
       "      <th>Books</th>\n",
       "      <th>Personal</th>\n",
       "      <th>PhD</th>\n",
       "      <th>Terminal</th>\n",
       "      <th>StuFacRatio</th>\n",
       "      <th>Alumni</th>\n",
       "      <th>Expend</th>\n",
       "      <th>GradRate</th>\n",
       "    </tr>\n",
       "  </thead>\n",
       "  <tbody>\n",
       "    <tr>\n",
       "      <th>0</th>\n",
       "      <td>Abilene Christian University</td>\n",
       "      <td>Yes</td>\n",
       "      <td>1660</td>\n",
       "      <td>1232</td>\n",
       "      <td>721</td>\n",
       "      <td>23</td>\n",
       "      <td>52</td>\n",
       "      <td>2885</td>\n",
       "      <td>537</td>\n",
       "      <td>7440</td>\n",
       "      <td>3300</td>\n",
       "      <td>450</td>\n",
       "      <td>2200</td>\n",
       "      <td>70</td>\n",
       "      <td>78</td>\n",
       "      <td>18.1</td>\n",
       "      <td>12</td>\n",
       "      <td>7041</td>\n",
       "      <td>60</td>\n",
       "    </tr>\n",
       "    <tr>\n",
       "      <th>1</th>\n",
       "      <td>Adelphi University</td>\n",
       "      <td>Yes</td>\n",
       "      <td>2186</td>\n",
       "      <td>1924</td>\n",
       "      <td>512</td>\n",
       "      <td>16</td>\n",
       "      <td>29</td>\n",
       "      <td>2683</td>\n",
       "      <td>1227</td>\n",
       "      <td>12280</td>\n",
       "      <td>6450</td>\n",
       "      <td>750</td>\n",
       "      <td>1500</td>\n",
       "      <td>29</td>\n",
       "      <td>30</td>\n",
       "      <td>12.2</td>\n",
       "      <td>16</td>\n",
       "      <td>10527</td>\n",
       "      <td>56</td>\n",
       "    </tr>\n",
       "    <tr>\n",
       "      <th>2</th>\n",
       "      <td>Adrian College</td>\n",
       "      <td>Yes</td>\n",
       "      <td>1428</td>\n",
       "      <td>1097</td>\n",
       "      <td>336</td>\n",
       "      <td>22</td>\n",
       "      <td>50</td>\n",
       "      <td>1036</td>\n",
       "      <td>99</td>\n",
       "      <td>11250</td>\n",
       "      <td>3750</td>\n",
       "      <td>400</td>\n",
       "      <td>1165</td>\n",
       "      <td>53</td>\n",
       "      <td>66</td>\n",
       "      <td>12.9</td>\n",
       "      <td>30</td>\n",
       "      <td>8735</td>\n",
       "      <td>54</td>\n",
       "    </tr>\n",
       "    <tr>\n",
       "      <th>3</th>\n",
       "      <td>Agnes Scott College</td>\n",
       "      <td>Yes</td>\n",
       "      <td>417</td>\n",
       "      <td>349</td>\n",
       "      <td>137</td>\n",
       "      <td>60</td>\n",
       "      <td>89</td>\n",
       "      <td>510</td>\n",
       "      <td>63</td>\n",
       "      <td>12960</td>\n",
       "      <td>5450</td>\n",
       "      <td>450</td>\n",
       "      <td>875</td>\n",
       "      <td>92</td>\n",
       "      <td>97</td>\n",
       "      <td>7.7</td>\n",
       "      <td>37</td>\n",
       "      <td>19016</td>\n",
       "      <td>59</td>\n",
       "    </tr>\n",
       "    <tr>\n",
       "      <th>4</th>\n",
       "      <td>Alaska Pacific University</td>\n",
       "      <td>Yes</td>\n",
       "      <td>193</td>\n",
       "      <td>146</td>\n",
       "      <td>55</td>\n",
       "      <td>16</td>\n",
       "      <td>44</td>\n",
       "      <td>249</td>\n",
       "      <td>869</td>\n",
       "      <td>7560</td>\n",
       "      <td>4120</td>\n",
       "      <td>800</td>\n",
       "      <td>1500</td>\n",
       "      <td>76</td>\n",
       "      <td>72</td>\n",
       "      <td>11.9</td>\n",
       "      <td>2</td>\n",
       "      <td>10922</td>\n",
       "      <td>15</td>\n",
       "    </tr>\n",
       "  </tbody>\n",
       "</table>\n",
       "</div>"
      ],
      "text/plain": [
       "                          Names Private  Apps  Accept  Enroll  Top10perc  \\\n",
       "0  Abilene Christian University     Yes  1660    1232     721         23   \n",
       "1            Adelphi University     Yes  2186    1924     512         16   \n",
       "2                Adrian College     Yes  1428    1097     336         22   \n",
       "3           Agnes Scott College     Yes   417     349     137         60   \n",
       "4     Alaska Pacific University     Yes   193     146      55         16   \n",
       "\n",
       "   Top25perc  FullTime  PartTime  Outstate  RoomCost  Books  Personal  PhD  \\\n",
       "0         52      2885       537      7440      3300    450      2200   70   \n",
       "1         29      2683      1227     12280      6450    750      1500   29   \n",
       "2         50      1036        99     11250      3750    400      1165   53   \n",
       "3         89       510        63     12960      5450    450       875   92   \n",
       "4         44       249       869      7560      4120    800      1500   76   \n",
       "\n",
       "   Terminal  StuFacRatio  Alumni  Expend  GradRate  \n",
       "0        78         18.1      12    7041        60  \n",
       "1        30         12.2      16   10527        56  \n",
       "2        66         12.9      30    8735        54  \n",
       "3        97          7.7      37   19016        59  \n",
       "4        72         11.9       2   10922        15  "
      ]
     },
     "execution_count": 75,
     "metadata": {},
     "output_type": "execute_result"
    }
   ],
   "source": [
    "a=a.rename(columns={'Unnamed: 0':'Names','F.Undergrad':'FullTime','P.Undergrad':'PartTime','Room.Board':'RoomCost','S.F.Ratio':'StuFacRatio','perc.alumni':'Alumni','Grad.Rate':'GradRate'})\n",
    "a.head()"
   ]
  },
  {
   "cell_type": "code",
   "execution_count": 76,
   "id": "c352f38a",
   "metadata": {},
   "outputs": [],
   "source": [
    "#Private A factor with levels No and Yes indicating private or public university\n",
    "#Apps Number of applications received\n",
    "#Accept Number of applications accepted\n",
    "#Enroll Number of new students enrolled\n",
    "#Top10perc Pct. new students from top 10% of H.S. class\n",
    "#Top25perc Pct. new students from top 25% of H.S. class\n",
    "#F.Undergrad Number of fulltime undergraduates\n",
    "#P.Undergrad Number of parttime undergraduates\n",
    "#Outstate Out-of-state tuition\n",
    "#Room.Board Room and board costs\n",
    "#Books Estimated book costs\n",
    "#Personal Estimated personal spending\n",
    "#PhD Pct. of faculty with Ph.D.’s\n",
    "#Terminal Pct. of faculty with terminal degree\n",
    "#S.F.Ratio Student/faculty ratio\n",
    "#perc.alumni Pct. alumni who donate\n",
    "#Expend Instructional expenditure per student\n",
    "#Grad.Rate Graduation rate"
   ]
  },
  {
   "cell_type": "code",
   "execution_count": 77,
   "id": "e72fb239",
   "metadata": {},
   "outputs": [
    {
     "data": {
      "text/plain": [
       "(777, 19)"
      ]
     },
     "execution_count": 77,
     "metadata": {},
     "output_type": "execute_result"
    }
   ],
   "source": [
    "a.shape"
   ]
  },
  {
   "cell_type": "code",
   "execution_count": 78,
   "id": "5cb8e7ba",
   "metadata": {},
   "outputs": [
    {
     "data": {
      "text/html": [
       "<div>\n",
       "<style scoped>\n",
       "    .dataframe tbody tr th:only-of-type {\n",
       "        vertical-align: middle;\n",
       "    }\n",
       "\n",
       "    .dataframe tbody tr th {\n",
       "        vertical-align: top;\n",
       "    }\n",
       "\n",
       "    .dataframe thead th {\n",
       "        text-align: right;\n",
       "    }\n",
       "</style>\n",
       "<table border=\"1\" class=\"dataframe\">\n",
       "  <thead>\n",
       "    <tr style=\"text-align: right;\">\n",
       "      <th></th>\n",
       "      <th>Apps</th>\n",
       "      <th>Accept</th>\n",
       "      <th>Enroll</th>\n",
       "      <th>Top10perc</th>\n",
       "      <th>Top25perc</th>\n",
       "      <th>FullTime</th>\n",
       "      <th>PartTime</th>\n",
       "      <th>Outstate</th>\n",
       "      <th>RoomCost</th>\n",
       "      <th>Books</th>\n",
       "      <th>Personal</th>\n",
       "      <th>PhD</th>\n",
       "      <th>Terminal</th>\n",
       "      <th>StuFacRatio</th>\n",
       "      <th>Alumni</th>\n",
       "      <th>Expend</th>\n",
       "      <th>GradRate</th>\n",
       "    </tr>\n",
       "  </thead>\n",
       "  <tbody>\n",
       "    <tr>\n",
       "      <th>count</th>\n",
       "      <td>777.000000</td>\n",
       "      <td>777.000000</td>\n",
       "      <td>777.000000</td>\n",
       "      <td>777.000000</td>\n",
       "      <td>777.000000</td>\n",
       "      <td>777.000000</td>\n",
       "      <td>777.000000</td>\n",
       "      <td>777.000000</td>\n",
       "      <td>777.000000</td>\n",
       "      <td>777.000000</td>\n",
       "      <td>777.000000</td>\n",
       "      <td>777.000000</td>\n",
       "      <td>777.000000</td>\n",
       "      <td>777.000000</td>\n",
       "      <td>777.000000</td>\n",
       "      <td>777.000000</td>\n",
       "      <td>777.00000</td>\n",
       "    </tr>\n",
       "    <tr>\n",
       "      <th>mean</th>\n",
       "      <td>3001.638353</td>\n",
       "      <td>2018.804376</td>\n",
       "      <td>779.972973</td>\n",
       "      <td>27.558559</td>\n",
       "      <td>55.796654</td>\n",
       "      <td>3699.907336</td>\n",
       "      <td>855.298584</td>\n",
       "      <td>10440.669241</td>\n",
       "      <td>4357.526384</td>\n",
       "      <td>549.380952</td>\n",
       "      <td>1340.642214</td>\n",
       "      <td>72.660232</td>\n",
       "      <td>79.702703</td>\n",
       "      <td>14.089704</td>\n",
       "      <td>22.743887</td>\n",
       "      <td>9660.171171</td>\n",
       "      <td>65.46332</td>\n",
       "    </tr>\n",
       "    <tr>\n",
       "      <th>std</th>\n",
       "      <td>3870.201484</td>\n",
       "      <td>2451.113971</td>\n",
       "      <td>929.176190</td>\n",
       "      <td>17.640364</td>\n",
       "      <td>19.804778</td>\n",
       "      <td>4850.420531</td>\n",
       "      <td>1522.431887</td>\n",
       "      <td>4023.016484</td>\n",
       "      <td>1096.696416</td>\n",
       "      <td>165.105360</td>\n",
       "      <td>677.071454</td>\n",
       "      <td>16.328155</td>\n",
       "      <td>14.722359</td>\n",
       "      <td>3.958349</td>\n",
       "      <td>12.391801</td>\n",
       "      <td>5221.768440</td>\n",
       "      <td>17.17771</td>\n",
       "    </tr>\n",
       "    <tr>\n",
       "      <th>min</th>\n",
       "      <td>81.000000</td>\n",
       "      <td>72.000000</td>\n",
       "      <td>35.000000</td>\n",
       "      <td>1.000000</td>\n",
       "      <td>9.000000</td>\n",
       "      <td>139.000000</td>\n",
       "      <td>1.000000</td>\n",
       "      <td>2340.000000</td>\n",
       "      <td>1780.000000</td>\n",
       "      <td>96.000000</td>\n",
       "      <td>250.000000</td>\n",
       "      <td>8.000000</td>\n",
       "      <td>24.000000</td>\n",
       "      <td>2.500000</td>\n",
       "      <td>0.000000</td>\n",
       "      <td>3186.000000</td>\n",
       "      <td>10.00000</td>\n",
       "    </tr>\n",
       "    <tr>\n",
       "      <th>25%</th>\n",
       "      <td>776.000000</td>\n",
       "      <td>604.000000</td>\n",
       "      <td>242.000000</td>\n",
       "      <td>15.000000</td>\n",
       "      <td>41.000000</td>\n",
       "      <td>992.000000</td>\n",
       "      <td>95.000000</td>\n",
       "      <td>7320.000000</td>\n",
       "      <td>3597.000000</td>\n",
       "      <td>470.000000</td>\n",
       "      <td>850.000000</td>\n",
       "      <td>62.000000</td>\n",
       "      <td>71.000000</td>\n",
       "      <td>11.500000</td>\n",
       "      <td>13.000000</td>\n",
       "      <td>6751.000000</td>\n",
       "      <td>53.00000</td>\n",
       "    </tr>\n",
       "    <tr>\n",
       "      <th>50%</th>\n",
       "      <td>1558.000000</td>\n",
       "      <td>1110.000000</td>\n",
       "      <td>434.000000</td>\n",
       "      <td>23.000000</td>\n",
       "      <td>54.000000</td>\n",
       "      <td>1707.000000</td>\n",
       "      <td>353.000000</td>\n",
       "      <td>9990.000000</td>\n",
       "      <td>4200.000000</td>\n",
       "      <td>500.000000</td>\n",
       "      <td>1200.000000</td>\n",
       "      <td>75.000000</td>\n",
       "      <td>82.000000</td>\n",
       "      <td>13.600000</td>\n",
       "      <td>21.000000</td>\n",
       "      <td>8377.000000</td>\n",
       "      <td>65.00000</td>\n",
       "    </tr>\n",
       "    <tr>\n",
       "      <th>75%</th>\n",
       "      <td>3624.000000</td>\n",
       "      <td>2424.000000</td>\n",
       "      <td>902.000000</td>\n",
       "      <td>35.000000</td>\n",
       "      <td>69.000000</td>\n",
       "      <td>4005.000000</td>\n",
       "      <td>967.000000</td>\n",
       "      <td>12925.000000</td>\n",
       "      <td>5050.000000</td>\n",
       "      <td>600.000000</td>\n",
       "      <td>1700.000000</td>\n",
       "      <td>85.000000</td>\n",
       "      <td>92.000000</td>\n",
       "      <td>16.500000</td>\n",
       "      <td>31.000000</td>\n",
       "      <td>10830.000000</td>\n",
       "      <td>78.00000</td>\n",
       "    </tr>\n",
       "    <tr>\n",
       "      <th>max</th>\n",
       "      <td>48094.000000</td>\n",
       "      <td>26330.000000</td>\n",
       "      <td>6392.000000</td>\n",
       "      <td>96.000000</td>\n",
       "      <td>100.000000</td>\n",
       "      <td>31643.000000</td>\n",
       "      <td>21836.000000</td>\n",
       "      <td>21700.000000</td>\n",
       "      <td>8124.000000</td>\n",
       "      <td>2340.000000</td>\n",
       "      <td>6800.000000</td>\n",
       "      <td>103.000000</td>\n",
       "      <td>100.000000</td>\n",
       "      <td>39.800000</td>\n",
       "      <td>64.000000</td>\n",
       "      <td>56233.000000</td>\n",
       "      <td>118.00000</td>\n",
       "    </tr>\n",
       "  </tbody>\n",
       "</table>\n",
       "</div>"
      ],
      "text/plain": [
       "               Apps        Accept       Enroll   Top10perc   Top25perc  \\\n",
       "count    777.000000    777.000000   777.000000  777.000000  777.000000   \n",
       "mean    3001.638353   2018.804376   779.972973   27.558559   55.796654   \n",
       "std     3870.201484   2451.113971   929.176190   17.640364   19.804778   \n",
       "min       81.000000     72.000000    35.000000    1.000000    9.000000   \n",
       "25%      776.000000    604.000000   242.000000   15.000000   41.000000   \n",
       "50%     1558.000000   1110.000000   434.000000   23.000000   54.000000   \n",
       "75%     3624.000000   2424.000000   902.000000   35.000000   69.000000   \n",
       "max    48094.000000  26330.000000  6392.000000   96.000000  100.000000   \n",
       "\n",
       "           FullTime      PartTime      Outstate     RoomCost        Books  \\\n",
       "count    777.000000    777.000000    777.000000   777.000000   777.000000   \n",
       "mean    3699.907336    855.298584  10440.669241  4357.526384   549.380952   \n",
       "std     4850.420531   1522.431887   4023.016484  1096.696416   165.105360   \n",
       "min      139.000000      1.000000   2340.000000  1780.000000    96.000000   \n",
       "25%      992.000000     95.000000   7320.000000  3597.000000   470.000000   \n",
       "50%     1707.000000    353.000000   9990.000000  4200.000000   500.000000   \n",
       "75%     4005.000000    967.000000  12925.000000  5050.000000   600.000000   \n",
       "max    31643.000000  21836.000000  21700.000000  8124.000000  2340.000000   \n",
       "\n",
       "          Personal         PhD    Terminal  StuFacRatio      Alumni  \\\n",
       "count   777.000000  777.000000  777.000000   777.000000  777.000000   \n",
       "mean   1340.642214   72.660232   79.702703    14.089704   22.743887   \n",
       "std     677.071454   16.328155   14.722359     3.958349   12.391801   \n",
       "min     250.000000    8.000000   24.000000     2.500000    0.000000   \n",
       "25%     850.000000   62.000000   71.000000    11.500000   13.000000   \n",
       "50%    1200.000000   75.000000   82.000000    13.600000   21.000000   \n",
       "75%    1700.000000   85.000000   92.000000    16.500000   31.000000   \n",
       "max    6800.000000  103.000000  100.000000    39.800000   64.000000   \n",
       "\n",
       "             Expend   GradRate  \n",
       "count    777.000000  777.00000  \n",
       "mean    9660.171171   65.46332  \n",
       "std     5221.768440   17.17771  \n",
       "min     3186.000000   10.00000  \n",
       "25%     6751.000000   53.00000  \n",
       "50%     8377.000000   65.00000  \n",
       "75%    10830.000000   78.00000  \n",
       "max    56233.000000  118.00000  "
      ]
     },
     "execution_count": 78,
     "metadata": {},
     "output_type": "execute_result"
    }
   ],
   "source": [
    "a.describe()"
   ]
  },
  {
   "cell_type": "code",
   "execution_count": 79,
   "id": "f9e50d9f",
   "metadata": {},
   "outputs": [
    {
     "name": "stdout",
     "output_type": "stream",
     "text": [
      "<class 'pandas.core.frame.DataFrame'>\n",
      "RangeIndex: 777 entries, 0 to 776\n",
      "Data columns (total 19 columns):\n",
      " #   Column       Non-Null Count  Dtype  \n",
      "---  ------       --------------  -----  \n",
      " 0   Names        777 non-null    object \n",
      " 1   Private      777 non-null    object \n",
      " 2   Apps         777 non-null    int64  \n",
      " 3   Accept       777 non-null    int64  \n",
      " 4   Enroll       777 non-null    int64  \n",
      " 5   Top10perc    777 non-null    int64  \n",
      " 6   Top25perc    777 non-null    int64  \n",
      " 7   FullTime     777 non-null    int64  \n",
      " 8   PartTime     777 non-null    int64  \n",
      " 9   Outstate     777 non-null    int64  \n",
      " 10  RoomCost     777 non-null    int64  \n",
      " 11  Books        777 non-null    int64  \n",
      " 12  Personal     777 non-null    int64  \n",
      " 13  PhD          777 non-null    int64  \n",
      " 14  Terminal     777 non-null    int64  \n",
      " 15  StuFacRatio  777 non-null    float64\n",
      " 16  Alumni       777 non-null    int64  \n",
      " 17  Expend       777 non-null    int64  \n",
      " 18  GradRate     777 non-null    int64  \n",
      "dtypes: float64(1), int64(16), object(2)\n",
      "memory usage: 115.5+ KB\n"
     ]
    }
   ],
   "source": [
    "a.info()"
   ]
  },
  {
   "cell_type": "markdown",
   "id": "8d57b23f",
   "metadata": {},
   "source": [
    "<H6>To Check Null<H6>"
   ]
  },
  {
   "cell_type": "code",
   "execution_count": 80,
   "id": "f97bfb0a",
   "metadata": {},
   "outputs": [
    {
     "data": {
      "text/html": [
       "<div>\n",
       "<style scoped>\n",
       "    .dataframe tbody tr th:only-of-type {\n",
       "        vertical-align: middle;\n",
       "    }\n",
       "\n",
       "    .dataframe tbody tr th {\n",
       "        vertical-align: top;\n",
       "    }\n",
       "\n",
       "    .dataframe thead th {\n",
       "        text-align: right;\n",
       "    }\n",
       "</style>\n",
       "<table border=\"1\" class=\"dataframe\">\n",
       "  <thead>\n",
       "    <tr style=\"text-align: right;\">\n",
       "      <th></th>\n",
       "      <th>Names</th>\n",
       "      <th>Private</th>\n",
       "      <th>Apps</th>\n",
       "      <th>Accept</th>\n",
       "      <th>Enroll</th>\n",
       "      <th>Top10perc</th>\n",
       "      <th>Top25perc</th>\n",
       "      <th>FullTime</th>\n",
       "      <th>PartTime</th>\n",
       "      <th>Outstate</th>\n",
       "      <th>RoomCost</th>\n",
       "      <th>Books</th>\n",
       "      <th>Personal</th>\n",
       "      <th>PhD</th>\n",
       "      <th>Terminal</th>\n",
       "      <th>StuFacRatio</th>\n",
       "      <th>Alumni</th>\n",
       "      <th>Expend</th>\n",
       "      <th>GradRate</th>\n",
       "    </tr>\n",
       "  </thead>\n",
       "  <tbody>\n",
       "    <tr>\n",
       "      <th>0</th>\n",
       "      <td>False</td>\n",
       "      <td>False</td>\n",
       "      <td>False</td>\n",
       "      <td>False</td>\n",
       "      <td>False</td>\n",
       "      <td>False</td>\n",
       "      <td>False</td>\n",
       "      <td>False</td>\n",
       "      <td>False</td>\n",
       "      <td>False</td>\n",
       "      <td>False</td>\n",
       "      <td>False</td>\n",
       "      <td>False</td>\n",
       "      <td>False</td>\n",
       "      <td>False</td>\n",
       "      <td>False</td>\n",
       "      <td>False</td>\n",
       "      <td>False</td>\n",
       "      <td>False</td>\n",
       "    </tr>\n",
       "    <tr>\n",
       "      <th>1</th>\n",
       "      <td>False</td>\n",
       "      <td>False</td>\n",
       "      <td>False</td>\n",
       "      <td>False</td>\n",
       "      <td>False</td>\n",
       "      <td>False</td>\n",
       "      <td>False</td>\n",
       "      <td>False</td>\n",
       "      <td>False</td>\n",
       "      <td>False</td>\n",
       "      <td>False</td>\n",
       "      <td>False</td>\n",
       "      <td>False</td>\n",
       "      <td>False</td>\n",
       "      <td>False</td>\n",
       "      <td>False</td>\n",
       "      <td>False</td>\n",
       "      <td>False</td>\n",
       "      <td>False</td>\n",
       "    </tr>\n",
       "    <tr>\n",
       "      <th>2</th>\n",
       "      <td>False</td>\n",
       "      <td>False</td>\n",
       "      <td>False</td>\n",
       "      <td>False</td>\n",
       "      <td>False</td>\n",
       "      <td>False</td>\n",
       "      <td>False</td>\n",
       "      <td>False</td>\n",
       "      <td>False</td>\n",
       "      <td>False</td>\n",
       "      <td>False</td>\n",
       "      <td>False</td>\n",
       "      <td>False</td>\n",
       "      <td>False</td>\n",
       "      <td>False</td>\n",
       "      <td>False</td>\n",
       "      <td>False</td>\n",
       "      <td>False</td>\n",
       "      <td>False</td>\n",
       "    </tr>\n",
       "    <tr>\n",
       "      <th>3</th>\n",
       "      <td>False</td>\n",
       "      <td>False</td>\n",
       "      <td>False</td>\n",
       "      <td>False</td>\n",
       "      <td>False</td>\n",
       "      <td>False</td>\n",
       "      <td>False</td>\n",
       "      <td>False</td>\n",
       "      <td>False</td>\n",
       "      <td>False</td>\n",
       "      <td>False</td>\n",
       "      <td>False</td>\n",
       "      <td>False</td>\n",
       "      <td>False</td>\n",
       "      <td>False</td>\n",
       "      <td>False</td>\n",
       "      <td>False</td>\n",
       "      <td>False</td>\n",
       "      <td>False</td>\n",
       "    </tr>\n",
       "    <tr>\n",
       "      <th>4</th>\n",
       "      <td>False</td>\n",
       "      <td>False</td>\n",
       "      <td>False</td>\n",
       "      <td>False</td>\n",
       "      <td>False</td>\n",
       "      <td>False</td>\n",
       "      <td>False</td>\n",
       "      <td>False</td>\n",
       "      <td>False</td>\n",
       "      <td>False</td>\n",
       "      <td>False</td>\n",
       "      <td>False</td>\n",
       "      <td>False</td>\n",
       "      <td>False</td>\n",
       "      <td>False</td>\n",
       "      <td>False</td>\n",
       "      <td>False</td>\n",
       "      <td>False</td>\n",
       "      <td>False</td>\n",
       "    </tr>\n",
       "    <tr>\n",
       "      <th>...</th>\n",
       "      <td>...</td>\n",
       "      <td>...</td>\n",
       "      <td>...</td>\n",
       "      <td>...</td>\n",
       "      <td>...</td>\n",
       "      <td>...</td>\n",
       "      <td>...</td>\n",
       "      <td>...</td>\n",
       "      <td>...</td>\n",
       "      <td>...</td>\n",
       "      <td>...</td>\n",
       "      <td>...</td>\n",
       "      <td>...</td>\n",
       "      <td>...</td>\n",
       "      <td>...</td>\n",
       "      <td>...</td>\n",
       "      <td>...</td>\n",
       "      <td>...</td>\n",
       "      <td>...</td>\n",
       "    </tr>\n",
       "    <tr>\n",
       "      <th>772</th>\n",
       "      <td>False</td>\n",
       "      <td>False</td>\n",
       "      <td>False</td>\n",
       "      <td>False</td>\n",
       "      <td>False</td>\n",
       "      <td>False</td>\n",
       "      <td>False</td>\n",
       "      <td>False</td>\n",
       "      <td>False</td>\n",
       "      <td>False</td>\n",
       "      <td>False</td>\n",
       "      <td>False</td>\n",
       "      <td>False</td>\n",
       "      <td>False</td>\n",
       "      <td>False</td>\n",
       "      <td>False</td>\n",
       "      <td>False</td>\n",
       "      <td>False</td>\n",
       "      <td>False</td>\n",
       "    </tr>\n",
       "    <tr>\n",
       "      <th>773</th>\n",
       "      <td>False</td>\n",
       "      <td>False</td>\n",
       "      <td>False</td>\n",
       "      <td>False</td>\n",
       "      <td>False</td>\n",
       "      <td>False</td>\n",
       "      <td>False</td>\n",
       "      <td>False</td>\n",
       "      <td>False</td>\n",
       "      <td>False</td>\n",
       "      <td>False</td>\n",
       "      <td>False</td>\n",
       "      <td>False</td>\n",
       "      <td>False</td>\n",
       "      <td>False</td>\n",
       "      <td>False</td>\n",
       "      <td>False</td>\n",
       "      <td>False</td>\n",
       "      <td>False</td>\n",
       "    </tr>\n",
       "    <tr>\n",
       "      <th>774</th>\n",
       "      <td>False</td>\n",
       "      <td>False</td>\n",
       "      <td>False</td>\n",
       "      <td>False</td>\n",
       "      <td>False</td>\n",
       "      <td>False</td>\n",
       "      <td>False</td>\n",
       "      <td>False</td>\n",
       "      <td>False</td>\n",
       "      <td>False</td>\n",
       "      <td>False</td>\n",
       "      <td>False</td>\n",
       "      <td>False</td>\n",
       "      <td>False</td>\n",
       "      <td>False</td>\n",
       "      <td>False</td>\n",
       "      <td>False</td>\n",
       "      <td>False</td>\n",
       "      <td>False</td>\n",
       "    </tr>\n",
       "    <tr>\n",
       "      <th>775</th>\n",
       "      <td>False</td>\n",
       "      <td>False</td>\n",
       "      <td>False</td>\n",
       "      <td>False</td>\n",
       "      <td>False</td>\n",
       "      <td>False</td>\n",
       "      <td>False</td>\n",
       "      <td>False</td>\n",
       "      <td>False</td>\n",
       "      <td>False</td>\n",
       "      <td>False</td>\n",
       "      <td>False</td>\n",
       "      <td>False</td>\n",
       "      <td>False</td>\n",
       "      <td>False</td>\n",
       "      <td>False</td>\n",
       "      <td>False</td>\n",
       "      <td>False</td>\n",
       "      <td>False</td>\n",
       "    </tr>\n",
       "    <tr>\n",
       "      <th>776</th>\n",
       "      <td>False</td>\n",
       "      <td>False</td>\n",
       "      <td>False</td>\n",
       "      <td>False</td>\n",
       "      <td>False</td>\n",
       "      <td>False</td>\n",
       "      <td>False</td>\n",
       "      <td>False</td>\n",
       "      <td>False</td>\n",
       "      <td>False</td>\n",
       "      <td>False</td>\n",
       "      <td>False</td>\n",
       "      <td>False</td>\n",
       "      <td>False</td>\n",
       "      <td>False</td>\n",
       "      <td>False</td>\n",
       "      <td>False</td>\n",
       "      <td>False</td>\n",
       "      <td>False</td>\n",
       "    </tr>\n",
       "  </tbody>\n",
       "</table>\n",
       "<p>777 rows × 19 columns</p>\n",
       "</div>"
      ],
      "text/plain": [
       "     Names  Private   Apps  Accept  Enroll  Top10perc  Top25perc  FullTime  \\\n",
       "0    False    False  False   False   False      False      False     False   \n",
       "1    False    False  False   False   False      False      False     False   \n",
       "2    False    False  False   False   False      False      False     False   \n",
       "3    False    False  False   False   False      False      False     False   \n",
       "4    False    False  False   False   False      False      False     False   \n",
       "..     ...      ...    ...     ...     ...        ...        ...       ...   \n",
       "772  False    False  False   False   False      False      False     False   \n",
       "773  False    False  False   False   False      False      False     False   \n",
       "774  False    False  False   False   False      False      False     False   \n",
       "775  False    False  False   False   False      False      False     False   \n",
       "776  False    False  False   False   False      False      False     False   \n",
       "\n",
       "     PartTime  Outstate  RoomCost  Books  Personal    PhD  Terminal  \\\n",
       "0       False     False     False  False     False  False     False   \n",
       "1       False     False     False  False     False  False     False   \n",
       "2       False     False     False  False     False  False     False   \n",
       "3       False     False     False  False     False  False     False   \n",
       "4       False     False     False  False     False  False     False   \n",
       "..        ...       ...       ...    ...       ...    ...       ...   \n",
       "772     False     False     False  False     False  False     False   \n",
       "773     False     False     False  False     False  False     False   \n",
       "774     False     False     False  False     False  False     False   \n",
       "775     False     False     False  False     False  False     False   \n",
       "776     False     False     False  False     False  False     False   \n",
       "\n",
       "     StuFacRatio  Alumni  Expend  GradRate  \n",
       "0          False   False   False     False  \n",
       "1          False   False   False     False  \n",
       "2          False   False   False     False  \n",
       "3          False   False   False     False  \n",
       "4          False   False   False     False  \n",
       "..           ...     ...     ...       ...  \n",
       "772        False   False   False     False  \n",
       "773        False   False   False     False  \n",
       "774        False   False   False     False  \n",
       "775        False   False   False     False  \n",
       "776        False   False   False     False  \n",
       "\n",
       "[777 rows x 19 columns]"
      ]
     },
     "execution_count": 80,
     "metadata": {},
     "output_type": "execute_result"
    }
   ],
   "source": [
    "a.isnull()"
   ]
  },
  {
   "cell_type": "code",
   "execution_count": 81,
   "id": "5c2c400d",
   "metadata": {},
   "outputs": [
    {
     "data": {
      "text/plain": [
       "Names          0\n",
       "Private        0\n",
       "Apps           0\n",
       "Accept         0\n",
       "Enroll         0\n",
       "Top10perc      0\n",
       "Top25perc      0\n",
       "FullTime       0\n",
       "PartTime       0\n",
       "Outstate       0\n",
       "RoomCost       0\n",
       "Books          0\n",
       "Personal       0\n",
       "PhD            0\n",
       "Terminal       0\n",
       "StuFacRatio    0\n",
       "Alumni         0\n",
       "Expend         0\n",
       "GradRate       0\n",
       "dtype: int64"
      ]
     },
     "execution_count": 81,
     "metadata": {},
     "output_type": "execute_result"
    }
   ],
   "source": [
    "a.isnull().sum()"
   ]
  },
  {
   "cell_type": "markdown",
   "id": "e1596ff0",
   "metadata": {},
   "source": [
    "<H6>Private<H6>"
   ]
  },
  {
   "cell_type": "code",
   "execution_count": 82,
   "id": "b7e9e44a",
   "metadata": {},
   "outputs": [
    {
     "name": "stderr",
     "output_type": "stream",
     "text": [
      "C:\\Users\\SANJAY\\anaconda3\\lib\\site-packages\\seaborn\\_decorators.py:36: FutureWarning: Pass the following variable as a keyword arg: x. From version 0.12, the only valid positional argument will be `data`, and passing other arguments without an explicit keyword will result in an error or misinterpretation.\n",
      "  warnings.warn(\n"
     ]
    },
    {
     "data": {
      "text/plain": [
       "<AxesSubplot:xlabel='Private', ylabel='count'>"
      ]
     },
     "execution_count": 82,
     "metadata": {},
     "output_type": "execute_result"
    },
    {
     "data": {
      "image/png": "[encoded data removed]",
      "text/plain": [
       "<Figure size 432x288 with 1 Axes>"
      ]
     },
     "metadata": {
      "needs_background": "light"
     },
     "output_type": "display_data"
    }
   ],
   "source": [
    "sns.countplot(a.Private)"
   ]
  },
  {
   "cell_type": "markdown",
   "id": "57707f62",
   "metadata": {},
   "source": [
    "<H6>Top 10 Percentage<H6>"
   ]
  },
  {
   "cell_type": "code",
   "execution_count": 83,
   "id": "a3a46167",
   "metadata": {},
   "outputs": [
    {
     "name": "stderr",
     "output_type": "stream",
     "text": [
      "C:\\Users\\SANJAY\\anaconda3\\lib\\site-packages\\seaborn\\_decorators.py:36: FutureWarning: Pass the following variable as a keyword arg: x. From version 0.12, the only valid positional argument will be `data`, and passing other arguments without an explicit keyword will result in an error or misinterpretation.\n",
      "  warnings.warn(\n"
     ]
    },
    {
     "data": {
      "text/plain": [
       "<AxesSubplot:xlabel='Top10perc', ylabel='count'>"
      ]
     },
     "execution_count": 83,
     "metadata": {},
     "output_type": "execute_result"
    },
    {
     "data": {
      "image/png": "[encoded data removed]",
      "text/plain": [
       "<Figure size 2880x720 with 1 Axes>"
      ]
     },
     "metadata": {
      "needs_background": "light"
     },
     "output_type": "display_data"
    }
   ],
   "source": [
    "plt.figure(figsize=(40,10))\n",
    "sns.countplot(a.Top10perc)"
   ]
  },
  {
   "cell_type": "markdown",
   "id": "989f9eb0",
   "metadata": {},
   "source": [
    "<H6>Top 25 Percentage<H6>"
   ]
  },
  {
   "cell_type": "code",
   "execution_count": 84,
   "id": "a543ad0d",
   "metadata": {},
   "outputs": [
    {
     "name": "stderr",
     "output_type": "stream",
     "text": [
      "C:\\Users\\SANJAY\\anaconda3\\lib\\site-packages\\seaborn\\_decorators.py:36: FutureWarning: Pass the following variable as a keyword arg: x. From version 0.12, the only valid positional argument will be `data`, and passing other arguments without an explicit keyword will result in an error or misinterpretation.\n",
      "  warnings.warn(\n"
     ]
    },
    {
     "data": {
      "text/plain": [
       "<AxesSubplot:xlabel='Top25perc', ylabel='count'>"
      ]
     },
     "execution_count": 84,
     "metadata": {},
     "output_type": "execute_result"
    },
    {
     "data": {
      "image/png": "[encoded data removed]",
      "text/plain": [
       "<Figure size 2880x720 with 1 Axes>"
      ]
     },
     "metadata": {
      "needs_background": "light"
     },
     "output_type": "display_data"
    }
   ],
   "source": [
    "plt.figure(figsize=(40,10))\n",
    "sns.countplot(a.Top25perc)"
   ]
  },
  {
   "cell_type": "markdown",
   "id": "30abd8ee",
   "metadata": {},
   "source": [
    "<H6>Room Expenditure<H6>"
   ]
  },
  {
   "cell_type": "code",
   "execution_count": 85,
   "id": "3e549034",
   "metadata": {},
   "outputs": [
    {
     "data": {
      "text/plain": [
       "{'whiskers': [<matplotlib.lines.Line2D at 0x20c9cc84550>,\n",
       "  <matplotlib.lines.Line2D at 0x20c9cc848e0>],\n",
       " 'caps': [<matplotlib.lines.Line2D at 0x20c9cc84c70>,\n",
       "  <matplotlib.lines.Line2D at 0x20c9cc8e040>],\n",
       " 'boxes': [<matplotlib.lines.Line2D at 0x20c9cc841c0>],\n",
       " 'medians': [<matplotlib.lines.Line2D at 0x20c9cc8e3d0>],\n",
       " 'fliers': [<matplotlib.lines.Line2D at 0x20c9cc8e760>],\n",
       " 'means': []}"
      ]
     },
     "execution_count": 85,
     "metadata": {},
     "output_type": "execute_result"
    },
    {
     "data": {
      "image/png": "[encoded data removed]",
      "text/plain": [
       "<Figure size 432x288 with 1 Axes>"
      ]
     },
     "metadata": {
      "needs_background": "light"
     },
     "output_type": "display_data"
    }
   ],
   "source": [
    "plt.boxplot(a.RoomCost)"
   ]
  },
  {
   "cell_type": "markdown",
   "id": "a8d33dbe",
   "metadata": {},
   "source": [
    "<H6>Book Expenditure<H6>"
   ]
  },
  {
   "cell_type": "code",
   "execution_count": 86,
   "id": "241530d9",
   "metadata": {},
   "outputs": [
    {
     "data": {
      "text/plain": [
       "{'whiskers': [<matplotlib.lines.Line2D at 0x20c9ccdbf10>,\n",
       "  <matplotlib.lines.Line2D at 0x20c9cce92e0>],\n",
       " 'caps': [<matplotlib.lines.Line2D at 0x20c9cce9670>,\n",
       "  <matplotlib.lines.Line2D at 0x20c9cce9a00>],\n",
       " 'boxes': [<matplotlib.lines.Line2D at 0x20c9ccdbb80>],\n",
       " 'medians': [<matplotlib.lines.Line2D at 0x20c9cce9d90>],\n",
       " 'fliers': [<matplotlib.lines.Line2D at 0x20c9ccf7160>],\n",
       " 'means': []}"
      ]
     },
     "execution_count": 86,
     "metadata": {},
     "output_type": "execute_result"
    },
    {
     "data": {
      "image/png": "[encoded data removed]",
      "text/plain": [
       "<Figure size 432x288 with 1 Axes>"
      ]
     },
     "metadata": {
      "needs_background": "light"
     },
     "output_type": "display_data"
    }
   ],
   "source": [
    "plt.boxplot(a.Books)"
   ]
  },
  {
   "cell_type": "markdown",
   "id": "9174f877",
   "metadata": {},
   "source": [
    "<H6>Personal Expenditure<H6>"
   ]
  },
  {
   "cell_type": "code",
   "execution_count": 87,
   "id": "efd014e4",
   "metadata": {},
   "outputs": [
    {
     "data": {
      "text/plain": [
       "{'whiskers': [<matplotlib.lines.Line2D at 0x20c9cdf9520>,\n",
       "  <matplotlib.lines.Line2D at 0x20c9cdf98b0>],\n",
       " 'caps': [<matplotlib.lines.Line2D at 0x20c9cdf9c40>,\n",
       "  <matplotlib.lines.Line2D at 0x20c9cdf9fd0>],\n",
       " 'boxes': [<matplotlib.lines.Line2D at 0x20c9cdf9190>],\n",
       " 'medians': [<matplotlib.lines.Line2D at 0x20c9ce073a0>],\n",
       " 'fliers': [<matplotlib.lines.Line2D at 0x20c9ce07730>],\n",
       " 'means': []}"
      ]
     },
     "execution_count": 87,
     "metadata": {},
     "output_type": "execute_result"
    },
    {
     "data": {
      "image/png": "[encoded data removed]",
      "text/plain": [
       "<Figure size 432x288 with 1 Axes>"
      ]
     },
     "metadata": {
      "needs_background": "light"
     },
     "output_type": "display_data"
    }
   ],
   "source": [
    "plt.boxplot(a.Personal)"
   ]
  },
  {
   "cell_type": "markdown",
   "id": "39f60d23",
   "metadata": {},
   "source": [
    "<H6>To find the College with High Graduation<H6>"
   ]
  },
  {
   "cell_type": "code",
   "execution_count": 88,
   "id": "acb4c6bc",
   "metadata": {},
   "outputs": [
    {
     "name": "stdout",
     "output_type": "stream",
     "text": [
      "118\n"
     ]
    }
   ],
   "source": [
    "Column=a['GradRate']\n",
    "Max_Grad=Column.max()\n",
    "print(Max_Grad)"
   ]
  },
  {
   "cell_type": "markdown",
   "id": "0a3f034c",
   "metadata": {},
   "source": [
    "<H6>To Change GradRate to appropriate Percent<H6>"
   ]
  },
  {
   "cell_type": "code",
   "execution_count": 89,
   "id": "6b9a40e3",
   "metadata": {},
   "outputs": [
    {
     "data": {
      "text/plain": [
       "100"
      ]
     },
     "execution_count": 89,
     "metadata": {},
     "output_type": "execute_result"
    }
   ],
   "source": [
    "#Method 1\n",
    "a.GradRate=a.GradRate.replace(a.GradRate.max(),100)\n",
    "a.GradRate.max()"
   ]
  },
  {
   "cell_type": "markdown",
   "id": "07e8c17b",
   "metadata": {},
   "source": [
    "<H6>To find the College with High Graduation Rate<H6>"
   ]
  },
  {
   "cell_type": "code",
   "execution_count": 90,
   "id": "75460767",
   "metadata": {},
   "outputs": [
    {
     "data": {
      "text/plain": [
       "16                     Amherst College\n",
       "95                   Cazenovia College\n",
       "126        College of Mount St. Joseph\n",
       "238                 Grove City College\n",
       "250                 Harvard University\n",
       "251                Harvey Mudd College\n",
       "317                 Lindenwood College\n",
       "377    Missouri Southern State College\n",
       "511             Santa Clara University\n",
       "522                      Siena College\n",
       "668             University of Richmond\n",
       "Name: Names, dtype: object"
      ]
     },
     "execution_count": 90,
     "metadata": {},
     "output_type": "execute_result"
    }
   ],
   "source": [
    "a.Names[a.GradRate==a.GradRate.max()]"
   ]
  },
  {
   "cell_type": "code",
   "execution_count": 91,
   "id": "55a91470",
   "metadata": {},
   "outputs": [
    {
     "name": "stdout",
     "output_type": "stream",
     "text": [
      "53.0\n",
      "65.0\n",
      "78.0\n",
      "25.0\n",
      "115.5\n",
      "15.5\n"
     ]
    }
   ],
   "source": [
    "#Method 2\n",
    "cQ1=a.GradRate.quantile(0.25)\n",
    "print(cQ1)\n",
    "cQ2=a.GradRate.quantile(0.50)\n",
    "print(cQ2)\n",
    "cQ3=a.GradRate.quantile(0.75)\n",
    "print(cQ3)\n",
    "IQR=cQ3-cQ1\n",
    "print(IQR)\n",
    "upper_extreme=cQ3+1.5*cIQR\n",
    "print(upper_extreme)\n",
    "lower_extreme=cQ1-1.5*cIQR\n",
    "print(lower_extreme)"
   ]
  },
  {
   "cell_type": "code",
   "execution_count": 92,
   "id": "15b4837d",
   "metadata": {},
   "outputs": [],
   "source": [
    "UE=a.GradRate[a.GradRate>upper_extreme]\n",
    "LE=a.GradRate[a.GradRate<lower_extreme]"
   ]
  },
  {
   "cell_type": "code",
   "execution_count": 97,
   "id": "8fa20e0c",
   "metadata": {},
   "outputs": [],
   "source": [
    "data=a.drop(['Names','Private'],axis=1)"
   ]
  },
  {
   "cell_type": "code",
   "execution_count": 99,
   "id": "61c6e082",
   "metadata": {},
   "outputs": [
    {
     "data": {
      "text/plain": [
       "Index(['Apps', 'Accept', 'Enroll', 'Top10perc', 'Top25perc', 'FullTime',\n",
       "       'PartTime', 'Outstate', 'RoomCost', 'Books', 'Personal', 'PhD',\n",
       "       'Terminal', 'StuFacRatio', 'Alumni', 'Expend', 'GradRate'],\n",
       "      dtype='object')"
      ]
     },
     "execution_count": 99,
     "metadata": {},
     "output_type": "execute_result"
    }
   ],
   "source": [
    "data.columns"
   ]
  },
  {
   "cell_type": "code",
   "execution_count": 101,
   "id": "15a6fa58",
   "metadata": {},
   "outputs": [],
   "source": [
    "scaled_data=normalize(data) #data is an array here"
   ]
  },
  {
   "cell_type": "code",
   "execution_count": 102,
   "id": "9674042a",
   "metadata": {},
   "outputs": [],
   "source": [
    "scaled_data=pd.DataFrame(scaled_data) #data changes from array to a framed one"
   ]
  },
  {
   "cell_type": "code",
   "execution_count": 104,
   "id": "72cbb340",
   "metadata": {},
   "outputs": [
    {
     "name": "stdout",
     "output_type": "stream",
     "text": [
      "           0         1         2         3         4         5         6   \\\n",
      "0    0.143250  0.106316  0.062219  0.001985  0.004487  0.248961  0.046340   \n",
      "1    0.121541  0.106974  0.028467  0.000890  0.001612  0.149174  0.068221   \n",
      "2    0.095648  0.073478  0.022506  0.001474  0.003349  0.069392  0.006631   \n",
      "3    0.017608  0.014737  0.005785  0.002534  0.003758  0.021535  0.002660   \n",
      "4    0.013744  0.010397  0.003917  0.001139  0.003133  0.017732  0.061882   \n",
      "..        ...       ...       ...       ...       ...       ...       ...   \n",
      "772  0.215271  0.148446  0.053205  0.000392  0.002548  0.302673  0.198810   \n",
      "773  0.121349  0.111809  0.043051  0.001487  0.002911  0.176479  0.068572   \n",
      "774  0.170141  0.155375  0.056389  0.002759  0.004949  0.226612  0.013468   \n",
      "775  0.227123  0.052044  0.027942  0.002016  0.002100  0.110687  0.001761   \n",
      "776  0.325153  0.201793  0.075169  0.003046  0.006853  0.325044  0.187760   \n",
      "\n",
      "           7         8         9         10        11        12        13  \\\n",
      "0    0.642036  0.284774  0.038833  0.189849  0.006041  0.006731  0.001562   \n",
      "1    0.682766  0.358619  0.041700  0.083400  0.001612  0.001668  0.000678   \n",
      "2    0.753533  0.251178  0.026792  0.078033  0.003550  0.004421  0.000864   \n",
      "3    0.547243  0.230129  0.019001  0.036947  0.003885  0.004096  0.000325   \n",
      "4    0.538354  0.293389  0.056969  0.106816  0.005412  0.005127  0.000847   \n",
      "..        ...       ...       ...       ...       ...       ...       ...   \n",
      "772  0.665998  0.382138  0.048992  0.117581  0.005879  0.005879  0.002058   \n",
      "773  0.713597  0.307243  0.037166  0.077430  0.004522  0.004646  0.000824   \n",
      "774  0.559835  0.340769  0.050061  0.063367  0.005436  0.006085  0.001168   \n",
      "775  0.420936  0.138120  0.013366  0.044873  0.002037  0.002037  0.000123   \n",
      "776  0.542827  0.387268  0.054392  0.135979  0.008159  0.008159  0.001969   \n",
      "\n",
      "           14        15        16  \n",
      "0    0.001036  0.607604  0.005178  \n",
      "1    0.000890  0.585300  0.003114  \n",
      "2    0.002009  0.585076  0.003617  \n",
      "3    0.001562  0.802961  0.002491  \n",
      "4    0.000142  0.777765  0.001068  \n",
      "..        ...       ...       ...  \n",
      "772  0.001372  0.437891  0.003919  \n",
      "773  0.001920  0.569205  0.005141  \n",
      "774  0.001623  0.675291  0.003976  \n",
      "775  0.001040  0.856850  0.002100  \n",
      "776  0.003046  0.490503  0.010770  \n",
      "\n",
      "[777 rows x 17 columns]\n"
     ]
    }
   ],
   "source": [
    "print(scaled_data)"
   ]
  },
  {
   "cell_type": "code",
   "execution_count": 114,
   "id": "19282834",
   "metadata": {},
   "outputs": [
    {
     "name": "stdout",
     "output_type": "stream",
     "text": [
      "[[3.34000000e+02 7.09000000e+02 1.26665966e-02 2.00000000e+00]\n",
      " [5.80000000e+01 5.90000000e+02 1.57435863e-02 2.00000000e+00]\n",
      " [3.88000000e+02 5.04000000e+02 1.79086703e-02 2.00000000e+00]\n",
      " ...\n",
      " [6.03000000e+02 1.54900000e+03 3.01331935e-01 7.75000000e+02]\n",
      " [2.80000000e+02 1.55000000e+03 3.53422483e-01 7.76000000e+02]\n",
      " [4.83000000e+02 1.55100000e+03 3.64808091e-01 7.77000000e+02]]\n"
     ]
    }
   ],
   "source": [
    "shc.linkage(scaled_data)"
   ]
  },
  {
   "cell_type": "code",
   "execution_count": 107,
   "id": "9e31988b",
   "metadata": {},
   "outputs": [],
   "source": [
    "scaled_data.columns=data.columns"
   ]
  },
  {
   "cell_type": "code",
   "execution_count": 108,
   "id": "d5648686",
   "metadata": {},
   "outputs": [
    {
     "data": {
      "text/plain": [
       "Index(['Apps', 'Accept', 'Enroll', 'Top10perc', 'Top25perc', 'FullTime',\n",
       "       'PartTime', 'Outstate', 'RoomCost', 'Books', 'Personal', 'PhD',\n",
       "       'Terminal', 'StuFacRatio', 'Alumni', 'Expend', 'GradRate'],\n",
       "      dtype='object')"
      ]
     },
     "execution_count": 108,
     "metadata": {},
     "output_type": "execute_result"
    }
   ],
   "source": [
    "scaled_data.columns"
   ]
  },
  {
   "cell_type": "code",
   "execution_count": 111,
   "id": "cb06ac40",
   "metadata": {},
   "outputs": [
    {
     "name": "stdout",
     "output_type": "stream",
     "text": [
      "       Apps    Accept    Enroll  Top10perc  Top25perc  FullTime  PartTime  \\\n",
      "0  0.143250  0.106316  0.062219   0.001985   0.004487  0.248961  0.046340   \n",
      "1  0.121541  0.106974  0.028467   0.000890   0.001612  0.149174  0.068221   \n",
      "2  0.095648  0.073478  0.022506   0.001474   0.003349  0.069392  0.006631   \n",
      "3  0.017608  0.014737  0.005785   0.002534   0.003758  0.021535  0.002660   \n",
      "4  0.013744  0.010397  0.003917   0.001139   0.003133  0.017732  0.061882   \n",
      "5  0.034483  0.028139  0.009282   0.002232   0.003642  0.039829  0.002409   \n",
      "6  0.020698  0.019936  0.006039   0.000997   0.002639  0.024392  0.013486   \n",
      "7  0.100384  0.090922  0.025849   0.001956   0.003595  0.084261  0.001692   \n",
      "8  0.051810  0.041878  0.011330   0.001497   0.003145  0.048566  0.015274   \n",
      "9  0.040473  0.034631  0.011961   0.001460   0.003060  0.055563  0.005424   \n",
      "\n",
      "   Outstate  RoomCost     Books  Personal       PhD  Terminal  StuFacRatio  \\\n",
      "0  0.642036  0.284774  0.038833  0.189849  0.006041  0.006731     0.001562   \n",
      "1  0.682766  0.358619  0.041700  0.083400  0.001612  0.001668     0.000678   \n",
      "2  0.753533  0.251178  0.026792  0.078033  0.003550  0.004421     0.000864   \n",
      "3  0.547243  0.230129  0.019001  0.036947  0.003885  0.004096     0.000325   \n",
      "4  0.538354  0.293389  0.056969  0.106816  0.005412  0.005127     0.000847   \n",
      "5  0.793060  0.195915  0.029373  0.039653  0.003936  0.004288     0.000552   \n",
      "6  0.779260  0.335393  0.029318  0.087953  0.005277  0.005453     0.000674   \n",
      "7  0.733086  0.255110  0.023788  0.044932  0.004705  0.005286     0.000724   \n",
      "8  0.778403  0.219620  0.014974  0.024957  0.003943  0.004193     0.000564   \n",
      "9  0.727952  0.235047  0.045897  0.125173  0.002782  0.002851     0.000800   \n",
      "\n",
      "     Alumni    Expend  GradRate  \n",
      "0  0.001036  0.607604  0.005178  \n",
      "1  0.000890  0.585300  0.003114  \n",
      "2  0.002009  0.585076  0.003617  \n",
      "3  0.001562  0.802961  0.002491  \n",
      "4  0.000142  0.777765  0.001068  \n",
      "5  0.000646  0.571415  0.003231  \n",
      "6  0.001525  0.519566  0.003694  \n",
      "7  0.001956  0.607222  0.003859  \n",
      "8  0.001148  0.581195  0.003993  \n",
      "9  0.001043  0.625240  0.003616  \n"
     ]
    }
   ],
   "source": [
    "Ten_rows=scaled_data.head(10)\n",
    "print(Ten_rows)"
   ]
  },
  {
   "cell_type": "code",
   "execution_count": 116,
   "id": "686a5d41",
   "metadata": {},
   "outputs": [],
   "source": [
    "link=shc.linkage(Ten_rows)"
   ]
  },
  {
   "cell_type": "code",
   "execution_count": 117,
   "id": "66cb873a",
   "metadata": {},
   "outputs": [
    {
     "data": {
      "text/plain": [
       "{'icoord': [[5.0, 5.0, 15.0, 15.0],\n",
       "  [65.0, 65.0, 75.0, 75.0],\n",
       "  [85.0, 85.0, 95.0, 95.0],\n",
       "  [70.0, 70.0, 90.0, 90.0],\n",
       "  [55.0, 55.0, 80.0, 80.0],\n",
       "  [45.0, 45.0, 67.5, 67.5],\n",
       "  [35.0, 35.0, 56.25, 56.25],\n",
       "  [25.0, 25.0, 45.625, 45.625],\n",
       "  [10.0, 10.0, 35.3125, 35.3125]],\n",
       " 'dcoord': [[0.0, 0.12086278215441965, 0.12086278215441965, 0.0],\n",
       "  [0.0, 0.04508128413722419, 0.04508128413722419, 0.0],\n",
       "  [0.0, 0.05113213357563551, 0.05113213357563551, 0.0],\n",
       "  [0.04508128413722419,\n",
       "   0.09022784273099921,\n",
       "   0.09022784273099921,\n",
       "   0.05113213357563551],\n",
       "  [0.0, 0.09988149460125453, 0.09988149460125453, 0.09022784273099921],\n",
       "  [0.0, 0.15160141290228824, 0.15160141290228824, 0.09988149460125453],\n",
       "  [0.0, 0.15782475575373076, 0.15782475575373076, 0.15160141290228824],\n",
       "  [0.0, 0.17622749126367518, 0.17622749126367518, 0.15782475575373076],\n",
       "  [0.12086278215441965,\n",
       "   0.2628289165315877,\n",
       "   0.2628289165315877,\n",
       "   0.17622749126367518]],\n",
       " 'ivl': ['3', '4', '0', '1', '6', '9', '5', '8', '2', '7'],\n",
       " 'leaves': [3, 4, 0, 1, 6, 9, 5, 8, 2, 7],\n",
       " 'color_list': ['C1', 'C2', 'C2', 'C2', 'C2', 'C2', 'C2', 'C2', 'C0'],\n",
       " 'leaves_color_list': ['C1',\n",
       "  'C1',\n",
       "  'C2',\n",
       "  'C2',\n",
       "  'C2',\n",
       "  'C2',\n",
       "  'C2',\n",
       "  'C2',\n",
       "  'C2',\n",
       "  'C2']}"
      ]
     },
     "execution_count": 117,
     "metadata": {},
     "output_type": "execute_result"
    },
    {
     "data": {
      "image/png": "[encoded data removed]",
      "text/plain": [
       "<Figure size 432x288 with 1 Axes>"
      ]
     },
     "metadata": {
      "needs_background": "light"
     },
     "output_type": "display_data"
    }
   ],
   "source": [
    "shc.dendrogram(link) #for ten rows alone"
   ]
  },
  {
   "cell_type": "code",
   "execution_count": 127,
   "id": "c05ddbd4",
   "metadata": {},
   "outputs": [
    {
     "name": "stdout",
     "output_type": "stream",
     "text": [
      "AgglomerativeClustering(n_clusters=3)\n"
     ]
    }
   ],
   "source": [
    "cluster=AgglomerativeClustering(n_clusters=3).fit(link)\n",
    "print(cluster)"
   ]
  },
  {
   "cell_type": "code",
   "execution_count": 128,
   "id": "3c410cbd",
   "metadata": {},
   "outputs": [],
   "source": [
    " c=cluster.labels_\n",
    "clustering=pd.DataFrame(c)"
   ]
  },
  {
   "cell_type": "code",
   "execution_count": 130,
   "id": "f5663fbb",
   "metadata": {},
   "outputs": [
    {
     "data": {
      "text/html": [
       "<div>\n",
       "<style scoped>\n",
       "    .dataframe tbody tr th:only-of-type {\n",
       "        vertical-align: middle;\n",
       "    }\n",
       "\n",
       "    .dataframe tbody tr th {\n",
       "        vertical-align: top;\n",
       "    }\n",
       "\n",
       "    .dataframe thead th {\n",
       "        text-align: right;\n",
       "    }\n",
       "</style>\n",
       "<table border=\"1\" class=\"dataframe\">\n",
       "  <thead>\n",
       "    <tr style=\"text-align: right;\">\n",
       "      <th></th>\n",
       "      <th>Names</th>\n",
       "      <th>0</th>\n",
       "      <th>Apps</th>\n",
       "      <th>Accept</th>\n",
       "      <th>Enroll</th>\n",
       "      <th>Top10perc</th>\n",
       "      <th>Top25perc</th>\n",
       "      <th>FullTime</th>\n",
       "      <th>PartTime</th>\n",
       "      <th>Outstate</th>\n",
       "      <th>RoomCost</th>\n",
       "      <th>Books</th>\n",
       "      <th>Personal</th>\n",
       "      <th>PhD</th>\n",
       "      <th>Terminal</th>\n",
       "      <th>StuFacRatio</th>\n",
       "      <th>Alumni</th>\n",
       "      <th>Expend</th>\n",
       "      <th>GradRate</th>\n",
       "    </tr>\n",
       "  </thead>\n",
       "  <tbody>\n",
       "    <tr>\n",
       "      <th>0</th>\n",
       "      <td>Abilene Christian University</td>\n",
       "      <td>1.0</td>\n",
       "      <td>1660</td>\n",
       "      <td>1232</td>\n",
       "      <td>721</td>\n",
       "      <td>23</td>\n",
       "      <td>52</td>\n",
       "      <td>2885</td>\n",
       "      <td>537</td>\n",
       "      <td>7440</td>\n",
       "      <td>3300</td>\n",
       "      <td>450</td>\n",
       "      <td>2200</td>\n",
       "      <td>70</td>\n",
       "      <td>78</td>\n",
       "      <td>18.1</td>\n",
       "      <td>12</td>\n",
       "      <td>7041</td>\n",
       "      <td>60</td>\n",
       "    </tr>\n",
       "    <tr>\n",
       "      <th>1</th>\n",
       "      <td>Adelphi University</td>\n",
       "      <td>1.0</td>\n",
       "      <td>2186</td>\n",
       "      <td>1924</td>\n",
       "      <td>512</td>\n",
       "      <td>16</td>\n",
       "      <td>29</td>\n",
       "      <td>2683</td>\n",
       "      <td>1227</td>\n",
       "      <td>12280</td>\n",
       "      <td>6450</td>\n",
       "      <td>750</td>\n",
       "      <td>1500</td>\n",
       "      <td>29</td>\n",
       "      <td>30</td>\n",
       "      <td>12.2</td>\n",
       "      <td>16</td>\n",
       "      <td>10527</td>\n",
       "      <td>56</td>\n",
       "    </tr>\n",
       "    <tr>\n",
       "      <th>2</th>\n",
       "      <td>Adrian College</td>\n",
       "      <td>0.0</td>\n",
       "      <td>1428</td>\n",
       "      <td>1097</td>\n",
       "      <td>336</td>\n",
       "      <td>22</td>\n",
       "      <td>50</td>\n",
       "      <td>1036</td>\n",
       "      <td>99</td>\n",
       "      <td>11250</td>\n",
       "      <td>3750</td>\n",
       "      <td>400</td>\n",
       "      <td>1165</td>\n",
       "      <td>53</td>\n",
       "      <td>66</td>\n",
       "      <td>12.9</td>\n",
       "      <td>30</td>\n",
       "      <td>8735</td>\n",
       "      <td>54</td>\n",
       "    </tr>\n",
       "    <tr>\n",
       "      <th>3</th>\n",
       "      <td>Agnes Scott College</td>\n",
       "      <td>0.0</td>\n",
       "      <td>417</td>\n",
       "      <td>349</td>\n",
       "      <td>137</td>\n",
       "      <td>60</td>\n",
       "      <td>89</td>\n",
       "      <td>510</td>\n",
       "      <td>63</td>\n",
       "      <td>12960</td>\n",
       "      <td>5450</td>\n",
       "      <td>450</td>\n",
       "      <td>875</td>\n",
       "      <td>92</td>\n",
       "      <td>97</td>\n",
       "      <td>7.7</td>\n",
       "      <td>37</td>\n",
       "      <td>19016</td>\n",
       "      <td>59</td>\n",
       "    </tr>\n",
       "    <tr>\n",
       "      <th>4</th>\n",
       "      <td>Alaska Pacific University</td>\n",
       "      <td>1.0</td>\n",
       "      <td>193</td>\n",
       "      <td>146</td>\n",
       "      <td>55</td>\n",
       "      <td>16</td>\n",
       "      <td>44</td>\n",
       "      <td>249</td>\n",
       "      <td>869</td>\n",
       "      <td>7560</td>\n",
       "      <td>4120</td>\n",
       "      <td>800</td>\n",
       "      <td>1500</td>\n",
       "      <td>76</td>\n",
       "      <td>72</td>\n",
       "      <td>11.9</td>\n",
       "      <td>2</td>\n",
       "      <td>10922</td>\n",
       "      <td>15</td>\n",
       "    </tr>\n",
       "    <tr>\n",
       "      <th>5</th>\n",
       "      <td>Albertson College</td>\n",
       "      <td>0.0</td>\n",
       "      <td>587</td>\n",
       "      <td>479</td>\n",
       "      <td>158</td>\n",
       "      <td>38</td>\n",
       "      <td>62</td>\n",
       "      <td>678</td>\n",
       "      <td>41</td>\n",
       "      <td>13500</td>\n",
       "      <td>3335</td>\n",
       "      <td>500</td>\n",
       "      <td>675</td>\n",
       "      <td>67</td>\n",
       "      <td>73</td>\n",
       "      <td>9.4</td>\n",
       "      <td>11</td>\n",
       "      <td>9727</td>\n",
       "      <td>55</td>\n",
       "    </tr>\n",
       "    <tr>\n",
       "      <th>6</th>\n",
       "      <td>Albertus Magnus College</td>\n",
       "      <td>2.0</td>\n",
       "      <td>353</td>\n",
       "      <td>340</td>\n",
       "      <td>103</td>\n",
       "      <td>17</td>\n",
       "      <td>45</td>\n",
       "      <td>416</td>\n",
       "      <td>230</td>\n",
       "      <td>13290</td>\n",
       "      <td>5720</td>\n",
       "      <td>500</td>\n",
       "      <td>1500</td>\n",
       "      <td>90</td>\n",
       "      <td>93</td>\n",
       "      <td>11.5</td>\n",
       "      <td>26</td>\n",
       "      <td>8861</td>\n",
       "      <td>63</td>\n",
       "    </tr>\n",
       "    <tr>\n",
       "      <th>7</th>\n",
       "      <td>Albion College</td>\n",
       "      <td>2.0</td>\n",
       "      <td>1899</td>\n",
       "      <td>1720</td>\n",
       "      <td>489</td>\n",
       "      <td>37</td>\n",
       "      <td>68</td>\n",
       "      <td>1594</td>\n",
       "      <td>32</td>\n",
       "      <td>13868</td>\n",
       "      <td>4826</td>\n",
       "      <td>450</td>\n",
       "      <td>850</td>\n",
       "      <td>89</td>\n",
       "      <td>100</td>\n",
       "      <td>13.7</td>\n",
       "      <td>37</td>\n",
       "      <td>11487</td>\n",
       "      <td>73</td>\n",
       "    </tr>\n",
       "    <tr>\n",
       "      <th>8</th>\n",
       "      <td>Albright College</td>\n",
       "      <td>0.0</td>\n",
       "      <td>1038</td>\n",
       "      <td>839</td>\n",
       "      <td>227</td>\n",
       "      <td>30</td>\n",
       "      <td>63</td>\n",
       "      <td>973</td>\n",
       "      <td>306</td>\n",
       "      <td>15595</td>\n",
       "      <td>4400</td>\n",
       "      <td>300</td>\n",
       "      <td>500</td>\n",
       "      <td>79</td>\n",
       "      <td>84</td>\n",
       "      <td>11.3</td>\n",
       "      <td>23</td>\n",
       "      <td>11644</td>\n",
       "      <td>80</td>\n",
       "    </tr>\n",
       "    <tr>\n",
       "      <th>9</th>\n",
       "      <td>Alderson-Broaddus College</td>\n",
       "      <td>NaN</td>\n",
       "      <td>582</td>\n",
       "      <td>498</td>\n",
       "      <td>172</td>\n",
       "      <td>21</td>\n",
       "      <td>44</td>\n",
       "      <td>799</td>\n",
       "      <td>78</td>\n",
       "      <td>10468</td>\n",
       "      <td>3380</td>\n",
       "      <td>660</td>\n",
       "      <td>1800</td>\n",
       "      <td>40</td>\n",
       "      <td>41</td>\n",
       "      <td>11.5</td>\n",
       "      <td>15</td>\n",
       "      <td>8991</td>\n",
       "      <td>52</td>\n",
       "    </tr>\n",
       "  </tbody>\n",
       "</table>\n",
       "</div>"
      ],
      "text/plain": [
       "                          Names    0  Apps  Accept  Enroll  Top10perc  \\\n",
       "0  Abilene Christian University  1.0  1660    1232     721         23   \n",
       "1            Adelphi University  1.0  2186    1924     512         16   \n",
       "2                Adrian College  0.0  1428    1097     336         22   \n",
       "3           Agnes Scott College  0.0   417     349     137         60   \n",
       "4     Alaska Pacific University  1.0   193     146      55         16   \n",
       "5             Albertson College  0.0   587     479     158         38   \n",
       "6       Albertus Magnus College  2.0   353     340     103         17   \n",
       "7                Albion College  2.0  1899    1720     489         37   \n",
       "8              Albright College  0.0  1038     839     227         30   \n",
       "9     Alderson-Broaddus College  NaN   582     498     172         21   \n",
       "\n",
       "   Top25perc  FullTime  PartTime  Outstate  RoomCost  Books  Personal  PhD  \\\n",
       "0         52      2885       537      7440      3300    450      2200   70   \n",
       "1         29      2683      1227     12280      6450    750      1500   29   \n",
       "2         50      1036        99     11250      3750    400      1165   53   \n",
       "3         89       510        63     12960      5450    450       875   92   \n",
       "4         44       249       869      7560      4120    800      1500   76   \n",
       "5         62       678        41     13500      3335    500       675   67   \n",
       "6         45       416       230     13290      5720    500      1500   90   \n",
       "7         68      1594        32     13868      4826    450       850   89   \n",
       "8         63       973       306     15595      4400    300       500   79   \n",
       "9         44       799        78     10468      3380    660      1800   40   \n",
       "\n",
       "   Terminal  StuFacRatio  Alumni  Expend  GradRate  \n",
       "0        78         18.1      12    7041        60  \n",
       "1        30         12.2      16   10527        56  \n",
       "2        66         12.9      30    8735        54  \n",
       "3        97          7.7      37   19016        59  \n",
       "4        72         11.9       2   10922        15  \n",
       "5        73          9.4      11    9727        55  \n",
       "6        93         11.5      26    8861        63  \n",
       "7       100         13.7      37   11487        73  \n",
       "8        84         11.3      23   11644        80  \n",
       "9        41         11.5      15    8991        52  "
      ]
     },
     "execution_count": 130,
     "metadata": {},
     "output_type": "execute_result"
    }
   ],
   "source": [
    "model=pd.concat([a.Names,clustering,data],axis=1)\n",
    "model.head(10)"
   ]
  },
  {
   "cell_type": "markdown",
   "id": "8e09326e",
   "metadata": {},
   "source": [
    "<H6>To make a Excel or CSV file<H6>"
   ]
  },
  {
   "cell_type": "code",
   "execution_count": 131,
   "id": "eb08289b",
   "metadata": {},
   "outputs": [
    {
     "data": {
      "text/plain": [
       "<bound method NDFrame.to_excel of                               Names    0   Apps  Accept  Enroll  Top10perc  \\\n",
       "0      Abilene Christian University  1.0   1660    1232     721         23   \n",
       "1                Adelphi University  1.0   2186    1924     512         16   \n",
       "2                    Adrian College  0.0   1428    1097     336         22   \n",
       "3               Agnes Scott College  0.0    417     349     137         60   \n",
       "4         Alaska Pacific University  1.0    193     146      55         16   \n",
       "..                              ...  ...    ...     ...     ...        ...   \n",
       "772         Worcester State College  NaN   2197    1515     543          4   \n",
       "773               Xavier University  NaN   1959    1805     695         24   \n",
       "774  Xavier University of Louisiana  NaN   2097    1915     695         34   \n",
       "775                 Yale University  NaN  10705    2453    1317         95   \n",
       "776    York College of Pennsylvania  NaN   2989    1855     691         28   \n",
       "\n",
       "     Top25perc  FullTime  PartTime  Outstate  RoomCost  Books  Personal  PhD  \\\n",
       "0           52      2885       537      7440      3300    450      2200   70   \n",
       "1           29      2683      1227     12280      6450    750      1500   29   \n",
       "2           50      1036        99     11250      3750    400      1165   53   \n",
       "3           89       510        63     12960      5450    450       875   92   \n",
       "4           44       249       869      7560      4120    800      1500   76   \n",
       "..         ...       ...       ...       ...       ...    ...       ...  ...   \n",
       "772         26      3089      2029      6797      3900    500      1200   60   \n",
       "773         47      2849      1107     11520      4960    600      1250   73   \n",
       "774         61      2793       166      6900      4200    617       781   67   \n",
       "775         99      5217        83     19840      6510    630      2115   96   \n",
       "776         63      2988      1726      4990      3560    500      1250   75   \n",
       "\n",
       "     Terminal  StuFacRatio  Alumni  Expend  GradRate  \n",
       "0          78         18.1      12    7041        60  \n",
       "1          30         12.2      16   10527        56  \n",
       "2          66         12.9      30    8735        54  \n",
       "3          97          7.7      37   19016        59  \n",
       "4          72         11.9       2   10922        15  \n",
       "..        ...          ...     ...     ...       ...  \n",
       "772        60         21.0      14    4469        40  \n",
       "773        75         13.3      31    9189        83  \n",
       "774        75         14.4      20    8323        49  \n",
       "775        96          5.8      49   40386        99  \n",
       "776        75         18.1      28    4509        99  \n",
       "\n",
       "[777 rows x 19 columns]>"
      ]
     },
     "execution_count": 131,
     "metadata": {},
     "output_type": "execute_result"
    }
   ],
   "source": [
    "model.to_excel"
   ]
  },
  {
   "cell_type": "code",
   "execution_count": 135,
   "id": "fc10594e",
   "metadata": {},
   "outputs": [],
   "source": [
    "model.to_csv(\"E:\\Jupyter NB\\data.csv\") #to create a file"
   ]
  },
  {
   "cell_type": "code",
   "execution_count": null,
   "id": "668783bf",
   "metadata": {},
   "outputs": [],
   "source": []
  }
 ],
 "metadata": {
  "kernelspec": {
   "display_name": "Python 3 (ipykernel)",
   "language": "python",
   "name": "python3"
  },
  "language_info": {
   "codemirror_mode": {
    "name": "ipython",
    "version": 3
   },
   "file_extension": ".py",
   "mimetype": "text/x-python",
   "name": "python",
   "nbconvert_exporter": "python",
   "pygments_lexer": "ipython3",
   "version": "3.9.7"
  }
 },
 "nbformat": 4,
 "nbformat_minor": 5
}
